{
  "nbformat": 4,
  "nbformat_minor": 0,
  "metadata": {
    "colab": {
      "name": "Previsão de Tensões - TCC.ipynb",
      "provenance": [],
      "collapsed_sections": [],
      "authorship_tag": "ABX9TyMBIOzhXOAUq2t4gcJ/Akr2",
      "include_colab_link": true
    },
    "kernelspec": {
      "name": "python3",
      "display_name": "Python 3"
    },
    "language_info": {
      "name": "python"
    }
  },
  "cells": [
    {
      "cell_type": "markdown",
      "metadata": {
        "id": "view-in-github",
        "colab_type": "text"
      },
      "source": [
        "<a href=\"https://colab.research.google.com/github/DaniFarias/Previsao_de_Tensoes_TCC_FURG/blob/main/Previs%C3%A3o_de_Tens%C3%B5es_TCC.ipynb\" target=\"_parent\"><img src=\"https://colab.research.google.com/assets/colab-badge.svg\" alt=\"Open In Colab\"/></a>"
      ]
    },
    {
      "cell_type": "code",
      "execution_count": 21,
      "metadata": {
        "id": "hluRVs9rmVZh"
      },
      "outputs": [],
      "source": [
        "# Importa bibliotecas\n",
        "\n",
        "%matplotlib inline\n",
        "import numpy as np\n",
        "import matplotlib.pyplot as plt\n",
        "import pandas as pd\n",
        "import sklearn"
      ]
    },
    {
      "cell_type": "code",
      "source": [
        "# Importa do dataset\n",
        "tensoes = pd.read_csv('TensaoTeste.csv', thousands=',', delimiter=';', encoding='latin1', na_values='n/a')\n",
        "tensoes.head(3)"
      ],
      "metadata": {
        "id": "RmViwcnFmgti"
      },
      "execution_count": null,
      "outputs": []
    },
    {
      "cell_type": "code",
      "source": [
        "#list(tensoes)\n",
        "#tensoes.info()\n",
        "#tensoes.describe()"
      ],
      "metadata": {
        "id": "-wnjmJjGpAyF"
      },
      "execution_count": null,
      "outputs": []
    },
    {
      "cell_type": "code",
      "source": [
        "# Drop coluna Tempo\n",
        "tensoes.drop(columns=['Tempo'], inplace = True)\n",
        "tensoes.head(3)"
      ],
      "metadata": {
        "id": "85wkn3XXmgh9"
      },
      "execution_count": 4,
      "outputs": []
    },
    {
      "cell_type": "code",
      "metadata": {
        "id": "Dkp6-YGQNvoR"
      },
      "source": [
        "# Para garantir um resultado idêntico, iniciamos a geração randomica com a mesma semente (seed)\n",
        "np.random.seed(42)"
      ],
      "execution_count": 5,
      "outputs": []
    },
    {
      "cell_type": "code",
      "source": [
        "# Split dos dados de treino e teste\n",
        "from sklearn.model_selection import train_test_split\n",
        "\n",
        "tensoes_treino, tensoes_teste = train_test_split(tensoes, \n",
        "                                                 test_size=0.2, \n",
        "                                                 random_state=42)\n",
        "print('tensoes_treino:', len(tensoes_treino))\n",
        "print('tensoes_teste: ', len(tensoes_teste))"
      ],
      "metadata": {
        "id": "acNMFwoNnzXa",
        "colab": {
          "base_uri": "https://localhost:8080/"
        },
        "outputId": "22a6deac-1e2c-47d2-9a0c-12ca18ee80aa"
      },
      "execution_count": 6,
      "outputs": [
        {
          "output_type": "stream",
          "name": "stdout",
          "text": [
            "tensoes_treino: 171752\n",
            "tensoes_teste:  42938\n"
          ]
        }
      ]
    },
    {
      "cell_type": "code",
      "source": [
        "# Separar treino\n",
        "X = tensoes_treino.drop('Tensao12', axis=1)\n",
        "y = tensoes_treino['Tensao12'].copy()"
      ],
      "metadata": {
        "id": "ngyo0a_9HeJJ"
      },
      "execution_count": 7,
      "outputs": []
    },
    {
      "cell_type": "code",
      "source": [
        "tensoes.sample(50)"
      ],
      "metadata": {
        "id": "9AeXSd6bx_fg"
      },
      "execution_count": null,
      "outputs": []
    },
    {
      "cell_type": "markdown",
      "source": [
        "# 1. Modelo Arvore de Decisão"
      ],
      "metadata": {
        "id": "T-SmN3_kGnBo"
      }
    },
    {
      "cell_type": "code",
      "source": [
        "# Criação e treinamento do modelo por Arvore de Decisão\n",
        "from sklearn.tree import DecisionTreeRegressor\n",
        "\n",
        "tree_reg = DecisionTreeRegressor(random_state=42, \n",
        "                                 max_depth=10)\n",
        "tree_reg.fit(X,y)"
      ],
      "metadata": {
        "id": "5t34Z7VtnDdT",
        "colab": {
          "base_uri": "https://localhost:8080/"
        },
        "outputId": "8fffad06-dd9b-464f-df76-ed1472ca75ae"
      },
      "execution_count": 8,
      "outputs": [
        {
          "output_type": "execute_result",
          "data": {
            "text/plain": [
              "DecisionTreeRegressor(max_depth=10, random_state=42)"
            ]
          },
          "metadata": {},
          "execution_count": 8
        }
      ]
    },
    {
      "cell_type": "code",
      "source": [
        "#print('Acurácia: {:.5%}'.format(tree_reg.score(X, y)))"
      ],
      "metadata": {
        "id": "LjnJefLpfhUC"
      },
      "execution_count": null,
      "outputs": []
    },
    {
      "cell_type": "code",
      "source": [
        "# Usando a medida de desempenho RMSE\n",
        "from sklearn.metrics import mean_squared_error\n",
        "\n",
        "tensoes_predictions = tree_reg.predict(X)\n",
        "\n",
        "tree_mse = mean_squared_error(y, tensoes_predictions)\n",
        "tree_rmse = np.sqrt(tree_mse)\n",
        "print(\"RMSE:\",tree_rmse)"
      ],
      "metadata": {
        "colab": {
          "base_uri": "https://localhost:8080/"
        },
        "id": "FrCnUs8cPCSZ",
        "outputId": "3f7b130e-c489-446f-d149-a5d97ea88c4f"
      },
      "execution_count": 12,
      "outputs": [
        {
          "output_type": "stream",
          "name": "stdout",
          "text": [
            "RMSE: 112.17645060558498\n"
          ]
        }
      ]
    },
    {
      "cell_type": "code",
      "source": [
        "# Validação Cruzada para o modelo de Árvore de Decisão\n",
        "from sklearn.model_selection import cross_val_score\n",
        "\n",
        "tree_scores = cross_val_score(tree_reg, X, y\n",
        "                          ,scoring='neg_mean_squared_error'\n",
        "                          ,cv=5)\n",
        "tree_scores = np.sqrt(-tree_scores)\n",
        "print(\"Mean:  \", tree_scores.mean())\n",
        "print(\"Std:   \", tree_scores.std())"
      ],
      "metadata": {
        "colab": {
          "base_uri": "https://localhost:8080/"
        },
        "id": "m4rcS-OrvE7_",
        "outputId": "65da0f8c-d3ec-45d0-b3e6-22cfab22bfaa"
      },
      "execution_count": 11,
      "outputs": [
        {
          "output_type": "stream",
          "name": "stdout",
          "text": [
            "Mean:   112.94750705900552\n",
            "Std:    4.75655878868191\n"
          ]
        }
      ]
    },
    {
      "cell_type": "markdown",
      "source": [
        "# 2. Floresta Aleatória"
      ],
      "metadata": {
        "id": "6obD1J1SG5d3"
      }
    },
    {
      "cell_type": "code",
      "source": [
        "# Aqui um modelo de Floresta Aleatória -- demora um pouco mais que os anteriores\n",
        "from sklearn.ensemble import RandomForestRegressor\n",
        "\n",
        "forest_reg = RandomForestRegressor(n_estimators=30\n",
        "                                   ,random_state=42)\n",
        "forest_reg.fit(X, y)"
      ],
      "metadata": {
        "id": "xcqtE95k8Zm7",
        "colab": {
          "base_uri": "https://localhost:8080/"
        },
        "outputId": "462a3d3a-4ab4-438a-d689-38fc1add7837"
      },
      "execution_count": 13,
      "outputs": [
        {
          "output_type": "execute_result",
          "data": {
            "text/plain": [
              "RandomForestRegressor(n_estimators=30, random_state=42)"
            ]
          },
          "metadata": {},
          "execution_count": 13
        }
      ]
    },
    {
      "cell_type": "code",
      "source": [
        "# Usando a medida de desempenho RMSE\n",
        "from sklearn.metrics import mean_squared_error\n",
        "\n",
        "tensoes_predictions = forest_reg.predict(X)\n",
        "\n",
        "forest_mse = mean_squared_error(y, tensoes_predictions)\n",
        "forest_rmse = np.sqrt(forest_mse)\n",
        "print(\"RMSE:\", forest_rmse)"
      ],
      "metadata": {
        "id": "oL0fH9ph6sx_",
        "colab": {
          "base_uri": "https://localhost:8080/"
        },
        "outputId": "1c79e967-13b3-4657-a37f-eb20e89b37bc"
      },
      "execution_count": 14,
      "outputs": [
        {
          "output_type": "stream",
          "name": "stdout",
          "text": [
            "RMSE: 2.6200649689198405\n"
          ]
        }
      ]
    },
    {
      "cell_type": "code",
      "source": [
        "# Validação cruzada para o modelo de Floresta Aleatória\n",
        "from sklearn.model_selection import cross_val_score\n",
        "\n",
        "scores = cross_val_score(forest_reg, X, y\n",
        "                         ,scoring='neg_mean_squared_error'\n",
        "                         ,cv=10)\n",
        "scores = np.sqrt(-scores)\n",
        "print(\"Mean:  \", scores.mean())\n",
        "print(\"Std:   \", scores.std())"
      ],
      "metadata": {
        "id": "PAJ1Nn7VAHxW",
        "colab": {
          "base_uri": "https://localhost:8080/"
        },
        "outputId": "23dbbb40-2e64-4c07-e552-ed059d2bd88d"
      },
      "execution_count": 22,
      "outputs": [
        {
          "output_type": "stream",
          "name": "stdout",
          "text": [
            "Mean:   6.583189203841551\n",
            "Std:    1.0818084910929295\n"
          ]
        }
      ]
    },
    {
      "cell_type": "code",
      "source": [
        "# Exibe resultados\n",
        "#print(\"Scores:\", scores)\n",
        "print(\"Mean:  \", scores.mean())\n",
        "print(\"Std:   \", scores.std())"
      ],
      "metadata": {
        "colab": {
          "base_uri": "https://localhost:8080/"
        },
        "id": "qrPiZdlQJq3v",
        "outputId": "880e4210-c4a7-46a0-be6b-5f428214e7e6"
      },
      "execution_count": 37,
      "outputs": [
        {
          "output_type": "stream",
          "name": "stdout",
          "text": [
            "Mean:   6.583189203841551\n",
            "Std:    1.0818084910929295\n"
          ]
        }
      ]
    },
    {
      "cell_type": "code",
      "source": [
        "# Separar teste\n",
        "X_test = tensoes_teste.drop('Tensao12', axis=1)\n",
        "y_test = tensoes_teste['Tensao12'].copy()"
      ],
      "metadata": {
        "id": "Aei3WNCiEP6Y"
      },
      "execution_count": 17,
      "outputs": []
    },
    {
      "cell_type": "code",
      "source": [
        "# Usando a medida de desempenho RMSE para dados de Teste\n",
        "final_predictions = forest_reg.predict(X_test)\n",
        "\n",
        "final_mse = mean_squared_error(y_test, final_predictions)\n",
        "final_rmse = np.sqrt(final_mse)\n",
        "print(\"RMSE: \",(final_rmse))"
      ],
      "metadata": {
        "id": "cVpWJzeWJ3MX",
        "colab": {
          "base_uri": "https://localhost:8080/"
        },
        "outputId": "3fd0b453-00dc-4bf2-a94f-4d04498b67d6"
      },
      "execution_count": 18,
      "outputs": [
        {
          "output_type": "stream",
          "name": "stdout",
          "text": [
            "Erro:  7.230025757633563\n"
          ]
        }
      ]
    },
    {
      "cell_type": "code",
      "source": [
        "# Usando a medida de desempenho CV para dados de Teste\n",
        "scores = cross_val_score(forest_reg, X, y, \n",
        "                         scoring='neg_mean_squared_error', cv=10)\n",
        "scores = np.sqrt(-scores)"
      ],
      "metadata": {
        "id": "ZSzl5M5lJ6zp"
      },
      "execution_count": 19,
      "outputs": []
    },
    {
      "cell_type": "code",
      "source": [
        "#print(\"Scores:\", scores)\n",
        "print(\"Mean:  \", scores.mean())\n",
        "print(\"Std:   \", scores.std())"
      ],
      "metadata": {
        "colab": {
          "base_uri": "https://localhost:8080/"
        },
        "id": "1T8jmgAZKB-a",
        "outputId": "65af4a0c-bd95-4f4f-dc81-011535ed4b7b"
      },
      "execution_count": 38,
      "outputs": [
        {
          "output_type": "stream",
          "name": "stdout",
          "text": [
            "Mean:   6.583189203841551\n",
            "Std:    1.0818084910929295\n"
          ]
        }
      ]
    },
    {
      "cell_type": "code",
      "source": [
        "#Classificação de Features\n",
        "forest_reg.feature_importances_\n",
        "\n",
        "for score, name in sorted(zip(forest_reg.feature_importances_, tensoes)):\n",
        "    print('{:.2%}'.format(score), name)"
      ],
      "metadata": {
        "id": "fU_UdPlXUxHJ"
      },
      "execution_count": null,
      "outputs": []
    },
    {
      "cell_type": "code",
      "source": [
        "#print('Acurácia: {:.5%}'.format(forest_reg.score(X_test, y_test)))"
      ],
      "metadata": {
        "id": "tl47A-MlWmUs"
      },
      "execution_count": 27,
      "outputs": []
    },
    {
      "cell_type": "code",
      "source": [
        "z = tensoes_predictions.tolist()"
      ],
      "metadata": {
        "id": "_kM-S0iTBMTY"
      },
      "execution_count": 24,
      "outputs": []
    },
    {
      "cell_type": "code",
      "source": [
        "# Comparação tensoes de teste e preditas\n",
        "pd.options.display.float_format = '{:.2f}'.format\n",
        "df = pd.DataFrame((zip(y, z)), columns = ['T_12', 'T_12_predict'])\n",
        "df.sample(50)"
      ],
      "metadata": {
        "id": "wVijIJ1uEhl3"
      },
      "execution_count": null,
      "outputs": []
    }
  ]
}